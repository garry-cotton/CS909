{
  "nbformat": 4,
  "nbformat_minor": 0,
  "metadata": {
    "colab": {
      "provenance": [],
      "authorship_tag": "ABX9TyPZiuRlIzuxbzQot8MlVlss",
      "include_colab_link": true
    },
    "kernelspec": {
      "name": "python3",
      "display_name": "Python 3"
    },
    "language_info": {
      "name": "python"
    }
  },
  "cells": [
    {
      "cell_type": "markdown",
      "metadata": {
        "id": "view-in-github",
        "colab_type": "text"
      },
      "source": [
        "<a href=\"https://colab.research.google.com/github/garry-cotton/CS909/blob/master/2023/A1/Assignment.ipynb\" target=\"_parent\"><img src=\"https://colab.research.google.com/assets/colab-badge.svg\" alt=\"Open In Colab\"/></a>"
      ]
    },
    {
      "cell_type": "code",
      "execution_count": 9,
      "metadata": {
        "colab": {
          "base_uri": "https://localhost:8080/"
        },
        "id": "ktTMlOXNOTlf",
        "outputId": "c88346cd-7ab7-4a7c-945c-2b84d7f0cef4"
      },
      "outputs": [
        {
          "output_type": "stream",
          "name": "stdout",
          "text": [
            "1000\n"
          ]
        }
      ],
      "source": [
        "# Library imports\n",
        "import numpy as np\n",
        "import os\n",
        "import matplotlib.pyplot as plt"
      ]
    },
    {
      "cell_type": "code",
      "source": [
        "# Data load\n",
        "Xtrain = np.loadtxt(\"Xtrain.csv\").reshape(3000,28,28)\n",
        "Ytrain = np.loadtxt(\"Ytrain.csv\")"
      ],
      "metadata": {
        "id": "t4JInc23Sj6Q"
      },
      "execution_count": 6,
      "outputs": []
    },
    {
      "cell_type": "code",
      "source": [],
      "metadata": {
        "colab": {
          "base_uri": "https://localhost:8080/"
        },
        "id": "j9GwJZ2pVYVT",
        "outputId": "d5e3964d-671f-4712-b38f-91310824dcfe"
      },
      "execution_count": 10,
      "outputs": [
        {
          "output_type": "stream",
          "name": "stdout",
          "text": [
            "[-1. -1. -1.  1. -1.  1. -1. -1. -1. -1. -1.  1. -1. -1. -1. -1. -1. -1.\n",
            " -1. -1. -1. -1.  1. -1. -1. -1.  1. -1. -1. -1. -1.  1. -1. -1. -1. -1.\n",
            " -1. -1. -1.  1. -1. -1.  1. -1. -1. -1. -1.  1. -1. -1. -1. -1. -1.  1.\n",
            " -1. -1. -1. -1. -1. -1. -1. -1. -1. -1. -1. -1. -1. -1.  1. -1.  1. -1.\n",
            " -1. -1. -1. -1. -1.  1. -1. -1. -1. -1. -1. -1.  1. -1.  1.  1.  1.  1.\n",
            " -1. -1. -1. -1.  1. -1. -1. -1. -1. -1. -1. -1. -1.  1. -1.  1. -1. -1.\n",
            "  1. -1. -1.  1. -1. -1.  1. -1. -1. -1. -1. -1.  1. -1. -1. -1.  1. -1.\n",
            " -1. -1. -1. -1.  1. -1.  1.  1. -1. -1. -1. -1. -1. -1. -1. -1. -1. -1.\n",
            " -1. -1.  1. -1. -1. -1. -1. -1. -1. -1. -1.  1. -1.  1. -1.  1. -1. -1.\n",
            " -1. -1. -1. -1. -1. -1. -1. -1. -1.  1.  1. -1.  1. -1. -1. -1. -1. -1.\n",
            " -1. -1. -1.  1. -1.  1. -1. -1. -1. -1. -1. -1. -1. -1. -1. -1. -1.  1.\n",
            " -1. -1. -1. -1.  1.  1.  1. -1. -1. -1. -1. -1. -1. -1. -1. -1. -1. -1.\n",
            " -1. -1.  1. -1. -1. -1. -1. -1. -1. -1.  1. -1. -1. -1. -1. -1. -1. -1.\n",
            " -1. -1.  1. -1. -1. -1. -1. -1. -1.  1. -1. -1. -1. -1. -1. -1. -1.  1.\n",
            " -1. -1. -1. -1.  1. -1. -1. -1.  1. -1. -1. -1. -1. -1. -1.  1. -1. -1.\n",
            " -1. -1. -1. -1. -1. -1. -1.  1. -1. -1. -1.  1. -1.  1. -1.  1. -1. -1.\n",
            "  1. -1. -1. -1.  1. -1.  1. -1. -1. -1.  1. -1. -1.  1. -1. -1. -1. -1.\n",
            " -1. -1. -1.  1. -1. -1. -1. -1. -1.  1. -1.  1.  1. -1. -1. -1. -1.  1.\n",
            "  1. -1.  1. -1. -1. -1. -1. -1. -1. -1. -1. -1. -1. -1. -1.  1. -1. -1.\n",
            " -1. -1.  1. -1. -1. -1. -1. -1. -1. -1. -1. -1.  1. -1.  1. -1. -1. -1.\n",
            " -1. -1. -1. -1. -1. -1. -1.  1. -1. -1.  1. -1.  1. -1. -1. -1. -1.  1.\n",
            "  1. -1. -1. -1. -1. -1. -1.  1. -1. -1. -1. -1. -1. -1. -1. -1.  1. -1.\n",
            " -1. -1. -1. -1. -1. -1. -1. -1.  1. -1. -1. -1. -1. -1. -1. -1. -1. -1.\n",
            " -1. -1. -1. -1. -1. -1. -1. -1.  1. -1. -1. -1.  1. -1. -1. -1.  1. -1.\n",
            "  1. -1. -1. -1. -1.  1.  1. -1. -1. -1.  1.  1.  1. -1. -1. -1. -1. -1.\n",
            " -1. -1. -1. -1. -1. -1.  1. -1. -1. -1.  1.  1.  1.  1. -1. -1. -1. -1.\n",
            " -1. -1. -1. -1. -1. -1. -1. -1. -1.  1. -1. -1.  1. -1. -1. -1. -1. -1.\n",
            " -1. -1. -1. -1. -1. -1. -1. -1. -1. -1. -1.  1.  1. -1. -1. -1.  1. -1.\n",
            " -1. -1. -1. -1. -1. -1. -1. -1.  1. -1. -1. -1. -1. -1. -1.  1. -1. -1.\n",
            " -1.  1. -1. -1. -1. -1.  1. -1. -1. -1. -1. -1. -1. -1.  1.  1. -1. -1.\n",
            "  1. -1.  1. -1. -1. -1. -1. -1. -1.  1. -1. -1. -1. -1.  1. -1. -1. -1.\n",
            " -1. -1. -1. -1. -1. -1.  1. -1. -1.  1. -1.  1. -1. -1. -1. -1. -1.  1.\n",
            " -1.  1. -1. -1. -1. -1. -1. -1. -1. -1. -1. -1. -1. -1. -1.  1. -1. -1.\n",
            " -1. -1. -1.  1.  1.  1. -1. -1. -1.  1.  1. -1.  1. -1. -1.  1. -1.  1.\n",
            " -1. -1. -1. -1. -1. -1. -1.  1. -1. -1. -1.  1. -1. -1.  1. -1.  1. -1.\n",
            " -1.  1. -1. -1. -1. -1. -1. -1.  1. -1. -1. -1. -1. -1. -1.  1. -1. -1.\n",
            "  1.  1.  1. -1. -1. -1.  1.  1. -1. -1. -1.  1. -1. -1.  1. -1. -1. -1.\n",
            " -1. -1. -1.  1. -1. -1. -1. -1. -1. -1. -1.  1. -1. -1.  1. -1. -1. -1.\n",
            " -1. -1.  1.  1. -1. -1. -1. -1. -1. -1. -1. -1.  1. -1. -1. -1. -1. -1.\n",
            " -1. -1. -1. -1. -1. -1. -1.  1. -1. -1.  1. -1. -1. -1.  1. -1. -1. -1.\n",
            " -1. -1. -1. -1. -1. -1. -1. -1. -1. -1. -1. -1. -1.  1.  1. -1. -1.  1.\n",
            " -1. -1. -1. -1. -1.  1. -1. -1. -1.  1. -1.  1. -1.  1. -1. -1. -1. -1.\n",
            " -1.  1. -1.  1. -1.  1. -1. -1. -1. -1. -1. -1. -1.  1. -1. -1. -1. -1.\n",
            " -1. -1. -1. -1. -1. -1.  1.  1. -1. -1. -1.  1. -1. -1. -1. -1. -1. -1.\n",
            "  1. -1. -1. -1.  1.  1. -1. -1. -1.  1. -1. -1. -1. -1.  1. -1.  1. -1.\n",
            " -1. -1. -1. -1. -1. -1. -1. -1. -1. -1. -1. -1. -1.  1.  1.  1. -1. -1.\n",
            " -1.  1.  1. -1.  1. -1.  1.  1. -1. -1. -1. -1. -1. -1. -1. -1. -1. -1.\n",
            "  1.  1. -1.  1.  1. -1. -1. -1.  1.  1. -1. -1. -1. -1. -1. -1. -1. -1.\n",
            " -1. -1. -1. -1.  1. -1. -1. -1.  1.  1.  1. -1.  1.  1. -1. -1.  1.  1.\n",
            " -1.  1. -1. -1. -1. -1. -1.  1. -1. -1. -1. -1.  1.  1. -1. -1. -1. -1.\n",
            " -1. -1.  1. -1. -1. -1. -1. -1. -1. -1. -1. -1. -1.  1. -1. -1. -1. -1.\n",
            " -1. -1. -1. -1.  1. -1. -1. -1. -1. -1.  1. -1. -1.  1. -1. -1. -1. -1.\n",
            " -1. -1. -1. -1. -1. -1. -1. -1. -1. -1. -1. -1. -1.  1. -1. -1. -1. -1.\n",
            " -1. -1. -1. -1. -1. -1. -1. -1. -1. -1.  1. -1. -1. -1. -1. -1. -1. -1.\n",
            " -1. -1. -1. -1.  1.  1. -1.  1. -1. -1. -1. -1.  1. -1. -1.  1. -1. -1.\n",
            " -1.  1.  1. -1.  1. -1.  1. -1. -1. -1. -1. -1. -1. -1. -1.  1. -1.  1.\n",
            "  1. -1. -1.  1.  1.  1.  1.  1. -1. -1. -1. -1. -1.  1. -1. -1.  1. -1.\n",
            " -1. -1. -1. -1.  1. -1. -1. -1. -1. -1. -1.  1. -1.  1. -1.  1. -1.  1.\n",
            " -1. -1. -1.  1. -1. -1.  1.  1. -1. -1. -1. -1. -1. -1. -1.  1. -1.  1.\n",
            " -1. -1. -1.  1.  1.  1. -1. -1. -1. -1. -1. -1. -1. -1. -1. -1. -1. -1.\n",
            " -1. -1. -1. -1. -1. -1. -1. -1. -1.  1. -1. -1. -1. -1. -1. -1. -1. -1.\n",
            " -1. -1.  1.  1. -1. -1. -1. -1. -1. -1. -1. -1. -1. -1. -1.  1. -1. -1.\n",
            " -1. -1. -1. -1. -1. -1. -1. -1. -1.  1. -1. -1. -1. -1. -1. -1. -1. -1.\n",
            " -1. -1. -1. -1.  1. -1.  1. -1.  1. -1. -1. -1.  1. -1. -1. -1. -1.  1.\n",
            "  1. -1.  1. -1. -1. -1. -1.  1. -1. -1. -1. -1. -1.  1. -1. -1. -1. -1.\n",
            "  1. -1. -1. -1. -1. -1. -1.  1. -1. -1. -1. -1. -1. -1. -1. -1. -1. -1.\n",
            " -1. -1. -1. -1.  1. -1.  1. -1. -1. -1. -1. -1. -1. -1. -1. -1.  1.  1.\n",
            "  1. -1.  1.  1. -1. -1. -1. -1. -1.  1. -1. -1. -1. -1.  1. -1. -1. -1.\n",
            " -1. -1. -1. -1. -1.  1. -1. -1. -1. -1. -1. -1. -1.  1. -1. -1. -1. -1.\n",
            " -1. -1.  1. -1. -1. -1. -1. -1.  1.  1. -1. -1.  1. -1. -1. -1. -1.  1.\n",
            "  1. -1. -1.  1. -1. -1. -1. -1.  1.  1.  1. -1. -1. -1.  1. -1. -1. -1.\n",
            " -1. -1. -1. -1. -1. -1. -1.  1.  1. -1. -1. -1. -1. -1. -1. -1. -1. -1.\n",
            " -1. -1. -1. -1. -1. -1. -1. -1. -1. -1. -1. -1.  1. -1.  1. -1. -1.  1.\n",
            " -1.  1. -1. -1. -1. -1.  1. -1.  1. -1. -1. -1. -1. -1. -1. -1. -1. -1.\n",
            " -1. -1. -1. -1. -1. -1. -1. -1. -1. -1. -1. -1. -1. -1.  1. -1. -1. -1.\n",
            " -1. -1. -1.  1.  1. -1. -1. -1. -1. -1. -1. -1. -1. -1. -1. -1. -1. -1.\n",
            " -1. -1. -1. -1. -1. -1.  1. -1. -1. -1. -1. -1.  1. -1. -1. -1.  1. -1.\n",
            " -1. -1. -1. -1. -1. -1.  1. -1. -1. -1. -1. -1. -1. -1.  1.  1.  1. -1.\n",
            " -1. -1. -1.  1. -1.  1. -1.  1. -1. -1. -1. -1.  1.  1. -1. -1. -1. -1.\n",
            " -1.  1. -1. -1. -1. -1.  1. -1. -1. -1. -1. -1.  1.  1.  1. -1. -1. -1.\n",
            " -1. -1. -1. -1.  1. -1. -1. -1. -1.  1. -1. -1. -1. -1.  1. -1. -1. -1.\n",
            " -1. -1.  1. -1. -1. -1. -1. -1. -1.  1. -1.  1.  1. -1. -1. -1. -1. -1.\n",
            " -1. -1. -1. -1. -1. -1. -1. -1.  1. -1.  1.  1. -1. -1. -1. -1.  1. -1.\n",
            " -1. -1. -1. -1. -1. -1. -1. -1. -1. -1. -1.  1. -1. -1. -1.  1.  1. -1.\n",
            "  1.  1. -1. -1. -1.  1.  1.  1. -1. -1.  1. -1. -1. -1. -1. -1. -1.  1.\n",
            " -1.  1. -1. -1. -1. -1.  1. -1. -1.  1. -1.  1.  1. -1. -1. -1. -1. -1.\n",
            " -1. -1. -1.  1. -1. -1.  1. -1. -1. -1. -1. -1. -1. -1. -1. -1. -1. -1.\n",
            " -1. -1. -1.  1.  1. -1.  1. -1.  1. -1. -1. -1.  1. -1. -1.  1. -1.  1.\n",
            " -1. -1. -1. -1. -1. -1. -1.  1. -1. -1. -1. -1.  1. -1. -1. -1. -1. -1.\n",
            "  1. -1.  1.  1. -1. -1. -1. -1. -1.  1. -1. -1. -1. -1. -1. -1. -1. -1.\n",
            " -1. -1. -1.  1. -1. -1. -1. -1. -1. -1. -1. -1.  1. -1. -1. -1. -1. -1.\n",
            "  1. -1. -1. -1. -1. -1. -1. -1.  1. -1. -1. -1. -1. -1. -1. -1.  1. -1.\n",
            " -1. -1. -1. -1. -1. -1. -1. -1. -1. -1. -1. -1. -1.  1. -1.  1. -1. -1.\n",
            "  1. -1. -1. -1. -1. -1. -1. -1. -1. -1. -1. -1.  1. -1. -1.  1.  1. -1.\n",
            " -1. -1. -1. -1.  1. -1. -1. -1. -1.  1. -1. -1. -1. -1. -1. -1. -1. -1.\n",
            " -1. -1. -1. -1. -1. -1. -1. -1. -1. -1. -1. -1.  1.  1.  1. -1.  1. -1.\n",
            " -1.  1.  1.  1. -1. -1. -1. -1.  1. -1. -1. -1. -1. -1.  1.  1.  1. -1.\n",
            " -1. -1. -1. -1.  1. -1. -1.  1. -1. -1. -1. -1. -1. -1. -1. -1. -1. -1.\n",
            " -1. -1. -1. -1. -1.  1.  1. -1. -1. -1. -1. -1. -1. -1. -1. -1. -1. -1.\n",
            " -1. -1. -1. -1. -1. -1. -1. -1. -1. -1. -1. -1.  1.  1. -1.  1. -1. -1.\n",
            " -1. -1. -1. -1. -1. -1. -1.  1.  1. -1. -1. -1. -1. -1. -1. -1. -1. -1.\n",
            " -1.  1.  1. -1. -1. -1. -1. -1. -1. -1.  1. -1.  1. -1. -1.  1. -1. -1.\n",
            "  1.  1.  1. -1. -1. -1. -1. -1. -1. -1. -1. -1.  1. -1. -1. -1. -1. -1.\n",
            " -1. -1. -1.  1.  1.  1.  1. -1.  1.  1. -1. -1.  1. -1.  1.  1.  1. -1.\n",
            " -1. -1. -1. -1. -1. -1. -1. -1. -1.  1. -1. -1. -1. -1. -1. -1. -1. -1.\n",
            "  1. -1.  1. -1. -1. -1. -1. -1. -1. -1. -1. -1. -1.  1. -1. -1.  1.  1.\n",
            " -1. -1. -1.  1. -1. -1. -1. -1. -1. -1. -1. -1. -1. -1.  1. -1. -1. -1.\n",
            " -1.  1. -1. -1. -1. -1. -1. -1. -1.  1.  1.  1.  1.  1. -1. -1. -1. -1.\n",
            " -1. -1.  1.  1. -1. -1.  1. -1. -1.  1. -1. -1. -1.  1. -1. -1. -1. -1.\n",
            " -1.  1. -1. -1.  1. -1.  1. -1. -1. -1.  1. -1. -1.  1. -1. -1. -1. -1.\n",
            " -1.  1. -1. -1.  1. -1.  1. -1. -1. -1.  1. -1. -1.  1. -1. -1. -1. -1.\n",
            "  1. -1. -1.  1. -1. -1. -1. -1. -1. -1.  1. -1. -1. -1.  1. -1. -1. -1.\n",
            " -1.  1. -1. -1.  1. -1. -1. -1. -1. -1. -1.  1. -1. -1.  1. -1. -1.  1.\n",
            " -1.  1. -1.  1.  1.  1.  1. -1.  1. -1.  1. -1.  1. -1.  1.  1. -1.  1.\n",
            " -1. -1. -1. -1. -1. -1. -1. -1.  1. -1. -1. -1.  1. -1. -1. -1. -1. -1.\n",
            " -1. -1. -1.  1. -1.  1.  1. -1. -1. -1. -1. -1. -1.  1. -1.  1.  1. -1.\n",
            " -1. -1. -1.  1. -1.  1. -1.  1. -1. -1. -1. -1. -1. -1. -1. -1. -1. -1.\n",
            " -1. -1. -1. -1. -1. -1. -1.  1. -1. -1. -1. -1. -1. -1. -1. -1. -1. -1.\n",
            "  1. -1. -1. -1. -1. -1. -1. -1. -1. -1. -1. -1. -1. -1.  1. -1. -1. -1.\n",
            " -1. -1.  1. -1. -1.  1. -1. -1. -1.  1. -1.  1. -1. -1.  1. -1.  1.  1.\n",
            " -1.  1.  1. -1. -1. -1. -1. -1. -1.  1. -1.  1. -1. -1. -1. -1. -1. -1.\n",
            " -1.  1. -1.  1. -1. -1. -1. -1. -1. -1.  1. -1. -1. -1. -1. -1. -1. -1.\n",
            " -1.  1. -1.  1. -1. -1.  1. -1.  1. -1. -1. -1. -1.  1. -1. -1.  1. -1.\n",
            " -1. -1. -1.  1. -1. -1. -1. -1. -1. -1. -1. -1. -1. -1. -1. -1.  1.  1.\n",
            " -1. -1. -1. -1. -1. -1.  1. -1. -1.  1. -1. -1. -1. -1. -1. -1. -1.  1.\n",
            " -1. -1. -1. -1. -1.  1.  1. -1. -1. -1. -1. -1. -1. -1. -1.  1. -1. -1.\n",
            " -1.  1. -1. -1. -1.  1.  1. -1. -1. -1. -1. -1. -1.  1. -1. -1. -1. -1.\n",
            " -1. -1. -1. -1. -1. -1. -1. -1. -1. -1. -1. -1. -1. -1. -1. -1. -1.  1.\n",
            " -1. -1. -1. -1. -1. -1. -1. -1. -1. -1. -1. -1. -1. -1.  1.  1. -1. -1.\n",
            " -1. -1. -1. -1. -1. -1. -1. -1.  1. -1. -1. -1.  1. -1. -1. -1. -1. -1.\n",
            " -1. -1. -1. -1. -1. -1. -1. -1. -1. -1. -1. -1.  1. -1. -1.  1. -1. -1.\n",
            "  1. -1. -1. -1.  1. -1. -1. -1. -1. -1. -1. -1. -1. -1. -1. -1. -1. -1.\n",
            " -1. -1. -1.  1.  1. -1. -1. -1.  1. -1.  1. -1.  1. -1. -1. -1.  1. -1.\n",
            "  1. -1. -1. -1.  1.  1. -1.  1.  1.  1. -1.  1. -1.  1. -1. -1.  1. -1.\n",
            " -1. -1. -1.  1. -1. -1. -1. -1. -1. -1. -1. -1. -1. -1. -1. -1. -1. -1.\n",
            " -1. -1. -1. -1.  1. -1. -1. -1. -1. -1.  1. -1. -1.  1. -1. -1. -1.  1.\n",
            " -1. -1. -1. -1. -1. -1.  1. -1.  1.  1. -1. -1. -1. -1. -1. -1. -1.  1.\n",
            " -1. -1. -1. -1. -1. -1.  1. -1. -1. -1. -1. -1. -1. -1. -1. -1. -1. -1.\n",
            "  1. -1. -1. -1. -1. -1. -1.  1. -1. -1. -1. -1. -1. -1. -1. -1. -1. -1.\n",
            " -1. -1. -1. -1. -1.  1. -1. -1. -1. -1. -1. -1. -1. -1.  1. -1. -1. -1.\n",
            " -1. -1. -1.  1. -1. -1. -1.  1. -1. -1. -1. -1. -1. -1.  1. -1. -1. -1.\n",
            "  1. -1. -1. -1. -1. -1. -1. -1. -1. -1. -1.  1. -1. -1. -1. -1. -1.  1.\n",
            " -1. -1. -1.  1. -1.  1. -1. -1.  1. -1. -1. -1.  1. -1. -1. -1. -1. -1.\n",
            " -1. -1. -1.  1. -1. -1. -1. -1.  1. -1. -1.  1. -1. -1. -1. -1. -1. -1.\n",
            " -1. -1.  1. -1. -1. -1. -1.  1. -1. -1. -1.  1. -1. -1. -1. -1. -1. -1.\n",
            " -1. -1.  1. -1. -1. -1.  1.  1. -1. -1.  1. -1. -1. -1.  1. -1. -1. -1.\n",
            " -1.  1. -1. -1. -1.  1. -1.  1. -1. -1. -1.  1. -1. -1. -1.  1. -1. -1.\n",
            " -1. -1. -1. -1. -1. -1. -1.  1. -1. -1. -1.  1. -1. -1. -1.  1. -1. -1.\n",
            " -1. -1. -1. -1. -1.  1. -1. -1.  1.  1. -1. -1. -1. -1. -1. -1. -1. -1.\n",
            " -1. -1.  1.  1.  1. -1. -1.  1. -1. -1. -1. -1. -1. -1. -1. -1. -1. -1.\n",
            " -1. -1. -1. -1. -1. -1.  1. -1. -1. -1. -1. -1. -1. -1. -1. -1. -1. -1.\n",
            " -1. -1. -1. -1. -1. -1.  1. -1. -1. -1.  1.  1. -1.  1.  1. -1. -1. -1.\n",
            "  1. -1. -1. -1. -1. -1.  1. -1. -1.  1. -1.  1. -1.  1. -1. -1. -1. -1.\n",
            " -1. -1.  1. -1.  1. -1. -1.  1. -1. -1. -1. -1. -1.  1. -1.  1. -1.  1.\n",
            " -1. -1. -1.  1.  1. -1. -1. -1. -1. -1.  1. -1. -1. -1. -1. -1.  1. -1.\n",
            " -1. -1. -1. -1. -1. -1.  1. -1. -1. -1.  1. -1. -1.  1. -1. -1. -1. -1.\n",
            " -1. -1. -1. -1.  1. -1.  1. -1. -1. -1. -1. -1. -1. -1. -1. -1. -1.  1.\n",
            "  1. -1. -1. -1. -1. -1. -1. -1. -1. -1. -1. -1. -1. -1. -1. -1. -1. -1.\n",
            " -1. -1. -1. -1. -1. -1. -1. -1. -1. -1. -1. -1. -1. -1. -1. -1.  1. -1.\n",
            " -1. -1. -1. -1. -1. -1. -1.  1. -1. -1. -1.  1. -1. -1. -1. -1. -1. -1.\n",
            " -1. -1. -1. -1.  1. -1. -1. -1. -1. -1. -1. -1. -1. -1. -1. -1.  1. -1.\n",
            "  1. -1. -1. -1. -1. -1. -1. -1. -1. -1. -1. -1.  1. -1. -1. -1. -1. -1.\n",
            " -1. -1. -1. -1. -1. -1. -1. -1. -1. -1. -1.  1. -1. -1. -1. -1.  1. -1.\n",
            " -1. -1. -1. -1. -1. -1.  1.  1.  1. -1. -1.  1.  1. -1. -1.  1. -1. -1.\n",
            " -1. -1. -1.  1. -1. -1. -1. -1. -1.  1. -1. -1. -1. -1. -1. -1.  1. -1.\n",
            " -1. -1. -1. -1.  1. -1. -1. -1. -1.  1. -1. -1.  1.  1. -1. -1.  1. -1.\n",
            "  1. -1. -1. -1. -1. -1. -1. -1.  1. -1. -1. -1.]\n"
          ]
        }
      ]
    },
    {
      "cell_type": "code",
      "source": [
        "plt.gray(); plt.matshow(Xtrain[11])"
      ],
      "metadata": {
        "colab": {
          "base_uri": "https://localhost:8080/",
          "height": 310
        },
        "id": "pr-BC83AS82R",
        "outputId": "55f5bdf1-e6b4-445d-c1a4-4b5d322f887b"
      },
      "execution_count": 24,
      "outputs": [
        {
          "output_type": "execute_result",
          "data": {
            "text/plain": [
              "<matplotlib.image.AxesImage at 0x7efc4b75a9d0>"
            ]
          },
          "metadata": {},
          "execution_count": 24
        },
        {
          "output_type": "display_data",
          "data": {
            "text/plain": [
              "<Figure size 432x288 with 0 Axes>"
            ]
          },
          "metadata": {}
        },
        {
          "output_type": "display_data",
          "data": {
            "text/plain": [
              "<Figure size 288x288 with 1 Axes>"
            ],
            "image/png": "[encoded data removed]"
          },
          "metadata": {
            "needs_background": "light"
          }
        }
      ]
    }
  ]
}